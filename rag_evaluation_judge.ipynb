{
 "cells": [
  {
   "cell_type": "markdown",
   "id": "d72c768d",
   "metadata": {},
   "source": [
    "# LLMS evaluation"
   ]
  },
  {
   "cell_type": "markdown",
   "id": "73e9f9cb",
   "metadata": {},
   "source": [
    "# 1. Create simple RAG\n",
    "I'm using Azure OpenAI implementations. The simple RAG code is based on a Ragas example and has been modified for educational purposes.\n",
    "\n",
    "I have configured the llm_judge model to use a superior version, opting for o3 over o4. This follows best practices in LLM evaluation, where employing a higher-performing model as judge enhances result assessment\n",
    "\n",
    "t is considered good practice to use a more advanced version of an LLM model as a judge. However, due to constraints related to permissions and costs, I have used the same version of the model as both the agent and the judge.\n",
    "\n",
    "**Notes about env variables**\n",
    "- _ENDPOINT_AZ_AI_: The _simple_rag_ library uses this environment variable, contains the Azure private endpoint of the model (AI Foundry)\n",
    "- _AZURE_OPENAI_API_KEY_ variable is set in the system and is consumed by default in LangChain.\n",
    "\n"
   ]
  },
  {
   "cell_type": "code",
   "execution_count": null,
   "id": "9f009f20",
   "metadata": {},
   "outputs": [],
   "source": [
    "import os\n",
    "from langchain_openai import AzureChatOpenAI, ChatOpenAI\n",
    "from langchain_openai import AzureOpenAIEmbeddings\n",
    "from rag import simple_rag\n",
    "#ragas libs for evaluation LLM\n",
    "from ragas import evaluate, RunConfig\n",
    "from ragas.llms import LangchainLLMWrapper\n",
    "from ragas.metrics import LLMContextRecall, Faithfulness, FactualCorrectness\n",
    "\n",
    "from ragas import EvaluationDataset\n",
    "\n",
    "os.environ[\"RAGAS_DEBUG\"] = \"true\"#to see the debug logs (useful for timeout problems with OpenAI API))\n",
    "endpoint_az = os.environ[\"ENDPOINT_AZ_AI\"]\n",
    "run_config = RunConfig(timeout=200, log_tenacity=True)#this variable is used to set the timeout for the LLM calls. I have problemas with timeout < 180 in Azure \n",
    "\n",
    "# Initialize the RAG system \n",
    "llm_judge = AzureChatOpenAI(\n",
    "    azure_endpoint= f'https://{endpoint_az}.cognitiveservices.azure.com/openai/deployments/gpt-4o-mini/chat/completions?api-version=2025-01-01-preview',#os.environ[\"AZURE_OPENAI_ENDPOINT\"],\n",
    "    azure_deployment='o4-mini_pv',\n",
    "    openai_api_version='2024-12-01-preview')\n",
    "\n",
    "embeddings_judge = AzureOpenAIEmbeddings(\n",
    "    azure_endpoint= f'https://{endpoint_az}.cognitiveservices.azure.com/openai/deployments/text-embedding-3-large/embeddings?api-version=2023-05-15',#os.environ[\"AZURE_OPENAI_ENDPOINT\"],\n",
    "    azure_deployment='text-embedding-3-large',\n",
    "    openai_api_version='2024-02-01')#embedding models judge is the same as the one used for the RAG"
   ]
  },
  {
   "cell_type": "code",
   "execution_count": 3,
   "id": "262c55e1",
   "metadata": {},
   "outputs": [],
   "source": [
    "sample_docs = [\n",
    "    \"Google Inc published the transformative paper 'Attention is All You Need' in 2017, introducing the Transformer architecture that revolutionized natural language processing.\",\n",
    "    \"Albert Einstein proposed the theory of relativity, which transformed our understanding of time, space, and gravity.\",\n",
    "    \"Marie Curie was a physicist and chemist who conducted pioneering research on radioactivity and won two Nobel Prizes.\",\n",
    "    \"Alan Turing is considered the father of computer science for his work on algorithms and computation. He introduced the turing test, a criterion of intelligence.\",\n",
    "    \"Ada Lovelace is regarded as the first computer programmer for her work on Charles Babbage's early mechanical computer, the Analytical Engine.\",\n",
    "    \"Microsoft was founded by Bill Gates and Paul Allen in 1975, revolutionizing personal computing with software like Windows and Office.\",\n",
    "]"
   ]
  },
  {
   "cell_type": "markdown",
   "id": "6384394c",
   "metadata": {},
   "source": [
    "## 1.1 Let's ask a question"
   ]
  },
  {
   "cell_type": "code",
   "execution_count": 5,
   "id": "be69a0ff",
   "metadata": {},
   "outputs": [
    {
     "name": "stdout",
     "output_type": "stream",
     "text": [
      "Query: Who is Alan Turing\n",
      "Relevant Document: ['Alan Turing is considered the father of computer science for his work on algorithms and computation. He introduced the turing test, a criterion of intelligence.']\n",
      "Answer: Alan Turing is considered the father of computer science for his work on algorithms and computation. He introduced the Turing Test, which is a criterion of intelligence.\n"
     ]
    }
   ],
   "source": [
    "# Initialize my local RAG instance\n",
    "rag = simple_rag.RAG(endpoint_az)\n",
    "\n",
    "# Load simulated documents\n",
    "rag.load_documents(sample_docs)\n",
    "\n",
    "# Query and retrieve the most relevant document\n",
    "query = \"Who is Alan Turing\"\n",
    "relevant_doc = rag.get_most_relevant_docs(query)\n",
    "\n",
    "# Generate an answer\n",
    "answer = rag.generate_answer(query, relevant_doc)\n",
    "\n",
    "print(f\"Query: {query}\")\n",
    "print(f\"Relevant Document: {relevant_doc}\")\n",
    "print(f\"Answer: {answer}\")"
   ]
  },
  {
   "cell_type": "markdown",
   "id": "0f3316aa",
   "metadata": {},
   "source": [
    "## 2. Evaluate the RAG with ragas"
   ]
  },
  {
   "cell_type": "markdown",
   "id": "f08a543e",
   "metadata": {},
   "source": [
    "### 2.1 Collect evaluation dataset"
   ]
  },
  {
   "cell_type": "code",
   "execution_count": 6,
   "id": "eabc39ce",
   "metadata": {},
   "outputs": [],
   "source": [
    "sample_queries = [\n",
    "    \"Who introduced the theory of relativity?\",\n",
    "    \"Who published the concept of the transformers\",\n",
    "    \"What did Ada Lovelace?\",\n",
    "    \"Who won two Nobel Prizes for research on radioactivity?\",\n",
    "    \"Who is Alan Turing\",\n",
    "]\n",
    "\n",
    "expected_responses = [\n",
    "    \"Albert Einstein proposed the theory of relativity, which transformed our understanding of time, space, and gravity.\",\n",
    "    \"The concept of the transformers was published by Google Inc in the paper titled 'Attention is All You Need' in 2017.\",\n",
    "    \"Ada Lovelace is regarded as the first computer programmer for her work on Charles Babbage's early mechanical computer, the Analytical Engine.\",\n",
    "    \"Marie Curie won two Nobel Prizes for her research on radioactivity.\",\n",
    "    \"Alan Turing is considered the father of computer science for his work on algorithms and computation. He introduced the Turing test, which is a criterion of intelligence.\"\n",
    "]"
   ]
  },
  {
   "cell_type": "code",
   "execution_count": 7,
   "id": "ea13f103",
   "metadata": {},
   "outputs": [],
   "source": [
    "dataset = []\n",
    "\n",
    "for query,reference in zip(sample_queries,expected_responses):\n",
    "\n",
    "    relevant_docs = rag.get_most_relevant_docs(query)\n",
    "    response = rag.generate_answer(query, relevant_docs)\n",
    "    dataset.append(\n",
    "        {\n",
    "            \"user_input\":query,\n",
    "            \"retrieved_contexts\":relevant_docs,\n",
    "            \"response\":response,\n",
    "            \"reference\":reference\n",
    "        }\n",
    "    )"
   ]
  },
  {
   "cell_type": "code",
   "execution_count": 8,
   "id": "19998db1",
   "metadata": {},
   "outputs": [
    {
     "data": {
      "text/plain": [
       "{'user_input': 'What did Ada Lovelace?',\n",
       " 'retrieved_contexts': [\"Ada Lovelace is regarded as the first computer programmer for her work on Charles Babbage's early mechanical computer, the Analytical Engine.\"],\n",
       " 'response': \"Ada Lovelace is regarded as the first computer programmer for her work on Charles Babbage's early mechanical computer, the Analytical Engine.\",\n",
       " 'reference': \"Ada Lovelace is regarded as the first computer programmer for her work on Charles Babbage's early mechanical computer, the Analytical Engine.\"}"
      ]
     },
     "execution_count": 8,
     "metadata": {},
     "output_type": "execute_result"
    }
   ],
   "source": [
    "dataset[2]"
   ]
  },
  {
   "cell_type": "code",
   "execution_count": null,
   "id": "26ad24be",
   "metadata": {},
   "outputs": [],
   "source": [
    "evaluation_dataset = EvaluationDataset.from_list(dataset)#define object for evaluation dataset"
   ]
  },
  {
   "cell_type": "markdown",
   "id": "b9847c9b",
   "metadata": {},
   "source": [
    "### 2.2 Execute evaluations using ragas methods"
   ]
  },
  {
   "cell_type": "code",
   "execution_count": 11,
   "id": "34e09239",
   "metadata": {},
   "outputs": [
    {
     "name": "stderr",
     "output_type": "stream",
     "text": [
      "Evaluating:  80%|████████  | 12/15 [03:06<00:58, 19.34s/it]Exception raised in Job[5]: TimeoutError()\n",
      "Exception raised in Job[8]: TimeoutError()\n",
      "Evaluating: 100%|██████████| 15/15 [03:20<00:00, 13.33s/it]\n"
     ]
    },
    {
     "data": {
      "text/plain": [
       "{'context_recall': 1.0000, 'faithfulness': 1.0000, 'factual_correctness(mode=f1)': 0.8000}"
      ]
     },
     "execution_count": 11,
     "metadata": {},
     "output_type": "execute_result"
    }
   ],
   "source": [
    "evaluator_llm = LangchainLLMWrapper(llm_judge)#judge llm \n",
    "\n",
    "result = evaluate(dataset=evaluation_dataset,metrics=[LLMContextRecall(), Faithfulness(), FactualCorrectness()],llm=evaluator_llm, run_config= run_config)\n",
    "result"
   ]
  },
  {
   "cell_type": "markdown",
   "id": "b1b8f333",
   "metadata": {},
   "source": [
    "### References\n",
    "- https://docs.ragas.io/en/stable/getstarted/rag_eval/#basic-setup\n",
    "- https://python.langchain.com/docs/integrations/chat/\n",
    "- Private repositories"
   ]
  },
  {
   "cell_type": "markdown",
   "id": "36239db0",
   "metadata": {},
   "source": []
  }
 ],
 "metadata": {
  "kernelspec": {
   "display_name": ".venv",
   "language": "python",
   "name": "python3"
  },
  "language_info": {
   "codemirror_mode": {
    "name": "ipython",
    "version": 3
   },
   "file_extension": ".py",
   "mimetype": "text/x-python",
   "name": "python",
   "nbconvert_exporter": "python",
   "pygments_lexer": "ipython3",
   "version": "3.13.3"
  }
 },
 "nbformat": 4,
 "nbformat_minor": 5
}
