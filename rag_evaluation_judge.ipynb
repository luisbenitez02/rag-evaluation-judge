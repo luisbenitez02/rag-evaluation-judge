{
 "cells": [
  {
   "cell_type": "markdown",
   "id": "d72c768d",
   "metadata": {},
   "source": [
    "# LLMS evaluation"
   ]
  },
  {
   "cell_type": "markdown",
   "id": "73e9f9cb",
   "metadata": {},
   "source": [
    "# 1. Create simple RAG\n",
    "I'm using Azure OpenAI implementations. The simple RAG code is based on a Ragas example and has been modified for educational purposes.\n",
    "\n",
    "I have configured the llm_judge model to use a superior version, opting for o3 over o4. This follows best practices in LLM evaluation, where employing a higher-performing model as judge enhances result assessment\n",
    "\n",
    "**Notes about env variables**\n",
    "- _ENDPOINT_AZ_AI_: The _simple_rag_ library uses this environment variable, contains the Azure private endpoint of the model (AI Foundry)\n",
    "- _AZURE_OPENAI_API_KEY_ variable is set in the system and is consumed by default in LangChain."
   ]
  },
  {
   "cell_type": "code",
   "execution_count": null,
   "id": "9f009f20",
   "metadata": {},
   "outputs": [],
   "source": [
    "import os\n",
    "from langchain_openai import AzureChatOpenAI\n",
    "from langchain_openai import AzureOpenAIEmbeddings\n",
    "from rag import simple_rag\n",
    "#ragas libs for evaluation LLM\n",
    "from ragas import evaluate\n",
    "from ragas.llms import LangchainLLMWrapper\n",
    "\n",
    "endpoint_az = os.environ[\"ENDPOINT_AZ_AI\"]\n",
    "\n",
    "llm_judge = AzureChatOpenAI(\n",
    "    azure_endpoint= f'https://{endpoint_az}.cognitiveservices.azure.com/openai/deployments/o3-mini_pv/chat/completions?api-version=2025-01-01-preview',#os.environ[\"AZURE_OPENAI_ENDPOINT\"],\n",
    "    azure_deployment='o3-mini_pv',\n",
    "    openai_api_version='2024-12-01-preview') #the judge model is superior to the model using for the RAG\n",
    "\n",
    "embeddings_judge = AzureOpenAIEmbeddings(\n",
    "    azure_endpoint= f'https://{endpoint_az}.cognitiveservices.azure.com/openai/deployments/text-embedding-3-large/embeddings?api-version=2023-05-15',#os.environ[\"AZURE_OPENAI_ENDPOINT\"],\n",
    "    azure_deployment='text-embedding-3-large',\n",
    "    openai_api_version='2024-02-01')#embedding models judge is the same as the one used for the RAG"
   ]
  },
  {
   "cell_type": "code",
   "execution_count": 13,
   "id": "262c55e1",
   "metadata": {},
   "outputs": [],
   "source": [
    "sample_docs = [\n",
    "    \"Google Inc published the transformative paper 'Attention is All You Need' in 2017, introducing the Transformer architecture that revolutionized natural language processing.\",\n",
    "    \"Albert Einstein proposed the theory of relativity, which transformed our understanding of time, space, and gravity.\",\n",
    "    \"Marie Curie was a physicist and chemist who conducted pioneering research on radioactivity and won two Nobel Prizes.\",\n",
    "    \"Alan Turing is considered the father of computer science for his work on algorithms and computation. He introduced the turing test, a criterion of intelligence.\",\n",
    "    \"Ada Lovelace is regarded as the first computer programmer for her work on Charles Babbage's early mechanical computer, the Analytical Engine.\",\n",
    "    \"Microsoft was founded by Bill Gates and Paul Allen in 1975, revolutionizing personal computing with software like Windows and Office.\",\n",
    "]"
   ]
  },
  {
   "cell_type": "markdown",
   "id": "6384394c",
   "metadata": {},
   "source": [
    "## 1.1 Let's ask a question"
   ]
  },
  {
   "cell_type": "code",
   "execution_count": null,
   "id": "be69a0ff",
   "metadata": {},
   "outputs": [
    {
     "name": "stdout",
     "output_type": "stream",
     "text": [
      "Query: Tell me about Microsoft\n",
      "Relevant Document: ['Microsoft was founded by Bill Gates and Paul Allen in 1975, revolutionizing personal computing with software like Windows and Office.']\n",
      "Answer: Microsoft was founded by Bill Gates and Paul Allen in 1975. The company revolutionized personal computing with its software products, notably Windows and Office.\n"
     ]
    }
   ],
   "source": [
    "# Initialize my local RAG instance\n",
    "rag = simple_rag.RAG(endpoint_az)\n",
    "\n",
    "# Load simulated documents\n",
    "rag.load_documents(sample_docs)\n",
    "\n",
    "# Query and retrieve the most relevant document\n",
    "query = \"Who introduced the theory of relativity?\"\n",
    "relevant_doc = rag.get_most_relevant_docs(query)\n",
    "\n",
    "# Generate an answer\n",
    "answer = rag.generate_answer(query, relevant_doc)\n",
    "\n",
    "print(f\"Query: {query}\")\n",
    "print(f\"Relevant Document: {relevant_doc}\")\n",
    "print(f\"Answer: {answer}\")"
   ]
  },
  {
   "cell_type": "markdown",
   "id": "0f3316aa",
   "metadata": {},
   "source": [
    "## 2. Evaluate the RAG with ragas"
   ]
  },
  {
   "cell_type": "markdown",
   "id": "f08a543e",
   "metadata": {},
   "source": [
    "### 2.1 Collect evaluation dataset"
   ]
  },
  {
   "cell_type": "code",
   "execution_count": null,
   "id": "eabc39ce",
   "metadata": {},
   "outputs": [],
   "source": [
    "sample_queries = [\n",
    "    \"Who introduced the theory of relativity?\",\n",
    "    \"Who published the concept of the transformers\",\n",
    "    \"What did Ada Lovelace?\",\n",
    "    \"Who won two Nobel Prizes for research on radioactivity?\",\n",
    "    \"Tell me about Microsoft\"\n",
    "]\n",
    "\n",
    "expected_responses = [\n",
    "    \"Albert Einstein proposed the theory of relativity, which transformed our understanding of time, space, and gravity.\",\n",
    "    \"Ada Lovelace is regarded as the first computer programmer for her work on Charles Babbage's early mechanical computer, the Analytical Engine.\",\n",
    "    \"Isaac Newton formulated the laws of motion and universal gravitation, laying the foundation for classical mechanics.\",\n",
    "    \"Marie Curie was a physicist and chemist who conducted pioneering research on radioactivity and won two Nobel Prizes.\",\n",
    "    \"Charles Darwin introduced the theory of evolution by natural selection in his book 'On the Origin of Species'.\"\n",
    "]"
   ]
  },
  {
   "cell_type": "code",
   "execution_count": null,
   "id": "54a52a50",
   "metadata": {},
   "outputs": [],
   "source": [
    "result = evaluate(dataset=evaluation_dataset,metrics=[LLMContextRecall(), Faithfulness(), FactualCorrectness()],llm=evaluator_llm)\n",
    "result"
   ]
  },
  {
   "cell_type": "markdown",
   "id": "64d791ec",
   "metadata": {},
   "source": [
    "\n",
    "\n",
    "result = evaluate(dataset=evaluation_dataset,metrics=[LLMContextRecall(), Faithfulness(), FactualCorrectness()],llm=evaluator_llm)\n",
    "result"
   ]
  },
  {
   "cell_type": "markdown",
   "id": "b1b8f333",
   "metadata": {},
   "source": [
    "### References\n",
    "- https://docs.ragas.io/en/stable/getstarted/rag_eval/#basic-setup\n",
    "- https://python.langchain.com/docs/integrations/chat/\n",
    "- Private repositories"
   ]
  },
  {
   "cell_type": "markdown",
   "id": "36239db0",
   "metadata": {},
   "source": []
  }
 ],
 "metadata": {
  "kernelspec": {
   "display_name": ".venv",
   "language": "python",
   "name": "python3"
  },
  "language_info": {
   "codemirror_mode": {
    "name": "ipython",
    "version": 3
   },
   "file_extension": ".py",
   "mimetype": "text/x-python",
   "name": "python",
   "nbconvert_exporter": "python",
   "pygments_lexer": "ipython3",
   "version": "3.13.3"
  }
 },
 "nbformat": 4,
 "nbformat_minor": 5
}
